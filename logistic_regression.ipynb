{
 "cells": [
  {
   "cell_type": "markdown",
   "metadata": {},
   "source": [
    "# Logistic Regression Analysis\n",
    "\n",
    "This notebook demonstrates how to analyze logistic regression models, calculate p-values for coefficients, and compute R-squared and adjusted R-squared values.\n"
   ]
  },
  {
   "cell_type": "code",
   "execution_count": null,
   "metadata": {},
   "outputs": [],
   "source": [
    "# Logistic Regression Analysis Notebook\n",
    "\n",
    "import pandas as pd\n",
    "from sklearn.linear_model import LogisticRegression\n",
    "from sklearn.model_selection import train_test_split, GridSearchCV, KFold\n",
    "from sklearn.metrics import accuracy_score, roc_auc_score, confusion_matrix, classification_report\n",
    "from sklearn.preprocessing import StandardScaler\n",
    "import numpy as np\n",
    "from scipy.stats import chi2\n",
    "from sklearn.utils.class_weight import compute_class_weight\n"
   ]
  },
  {
   "cell_type": "markdown",
   "metadata": {},
   "source": [
    "### Defining the Logistic Regression Analyzer Class\n"
   ]
  },
  {
   "cell_type": "code",
   "execution_count": null,
   "metadata": {},
   "outputs": [],
   "source": [
    "class LogisticRegressionAnalyzer:\n",
    "    def __init__(self, model=None):\n",
    "        if model is None:\n",
    "            self.model = LogisticRegression()\n",
    "        else:\n",
    "            self.model = model\n",
    "\n",
    "    def fit(self, X, y):\n",
    "        self.X = X\n",
    "        self.y = y\n",
    "        self.model.fit(X, y)\n",
    "\n",
    "    def calculate_p_values(self):\n",
    "        try:\n",
    "            X_columns = self.X.columns\n",
    "            \n",
    "            X = np.array(self.X, dtype=np.float64)\n",
    "            n = X.shape[0]\n",
    "            p = X.shape[1]  # number of predictors\n",
    "            X_design = np.hstack([np.ones((n, 1)), X])\n",
    "            \n",
    "            pred_probs = self.model.predict_proba(X)[:, 1]\n",
    "            V = np.diag(pred_probs * (1 - pred_probs))\n",
    "            X_design_T = X_design.T\n",
    "            cov_matrix = np.linalg.inv(X_design_T @ V @ X_design)\n",
    "            standard_errors = np.sqrt(np.diag(cov_matrix))\n",
    "            \n",
    "            wald_stats = np.hstack([self.model.intercept_, self.model.coef_.flatten()]) / standard_errors\n",
    "            p_values = chi2.sf(wald_stats**2, df=1)\n",
    "            \n",
    "            feature_names = ['Intercept'] + list(X_columns)\n",
    "            coef_df = pd.DataFrame({\n",
    "                'Feature': feature_names,\n",
    "                'Coefficient': np.hstack([self.model.intercept_, self.model.coef_.flatten()]),\n",
    "                'P-Value': p_values\n",
    "            })\n",
    "            \n",
    "            log_likelihood_fitted = np.sum(self.model.predict_log_proba(self.X)[:, 1])\n",
    "            \n",
    "            null_model = LogisticRegression()\n",
    "            null_model.fit(np.ones((n, 1)), self.y)  # Fit a model with only an intercept\n",
    "            log_likelihood_null = np.sum(null_model.predict_log_proba(np.ones((n, 1)))[:, 1])\n",
    "            \n",
    "            r_squared = 1 - (log_likelihood_fitted / log_likelihood_null)\n",
    "            adj_r_squared = 1 - ((1 - r_squared) * (n - 1) / (n - p - 1))\n",
    "            \n",
    "            return coef_df, r_squared, adj_r_squared\n",
    "        except Exception as e:\n",
    "            print(f\"An error occurred during p-value calculation: {e}\")\n",
    "            return None, None, None\n"
   ]
  },
  {
   "cell_type": "markdown",
   "metadata": {},
   "source": [
    "### Example Usage\n"
   ]
  },
  {
   "cell_type": "code",
   "execution_count": null,
   "metadata": {},
   "outputs": [],
   "source": [
    "# Load your data here\n",
    "data = pd.read_csv('../data/your_data.csv')\n",
    "X = data.drop('target', axis=1)\n",
    "y = data['target']\n",
    "\n",
    "# Scale the features\n",
    "scaler = StandardScaler()\n",
    "X_scaled = scaler.fit_transform(X)\n",
    "\n",
    "# Initialize the analyzer\n",
    "analyzer = LogisticRegressionAnalyzer()\n",
    "analyzer.fit(X_scaled, y)\n",
    "\n",
    "# Calculate p-values and R-squared\n",
    "p_values_df, r_squared, adj_r_squared = analyzer.calculate_p_values()\n",
    "\n",
    "if p_values_df is not None:\n",
    "    print(p_values_df)\n",
    "    print(f\"R-squared: {r_squared}\")\n",
    "    print(f\"Adjusted R-squared: {adj_r_squared}\")\n"
   ]
  }
 ],
 "metadata": {
  "language_info": {
   "name": "python"
  }
 },
 "nbformat": 4,
 "nbformat_minor": 2
}
